{
 "cells": [
  {
   "cell_type": "code",
   "execution_count": 1,
   "metadata": {},
   "outputs": [],
   "source": [
    "import pandas as pd"
   ]
  },
  {
   "cell_type": "code",
   "execution_count": 2,
   "metadata": {},
   "outputs": [],
   "source": [
    "df = pd.read_csv('herokuspotify.csv')"
   ]
  },
  {
   "cell_type": "code",
   "execution_count": 3,
   "metadata": {},
   "outputs": [
    {
     "data": {
      "text/html": [
       "<div>\n",
       "<style scoped>\n",
       "    .dataframe tbody tr th:only-of-type {\n",
       "        vertical-align: middle;\n",
       "    }\n",
       "\n",
       "    .dataframe tbody tr th {\n",
       "        vertical-align: top;\n",
       "    }\n",
       "\n",
       "    .dataframe thead th {\n",
       "        text-align: right;\n",
       "    }\n",
       "</style>\n",
       "<table border=\"1\" class=\"dataframe\">\n",
       "  <thead>\n",
       "    <tr style=\"text-align: right;\">\n",
       "      <th></th>\n",
       "      <th>region</th>\n",
       "      <th>position</th>\n",
       "      <th>month</th>\n",
       "      <th>day</th>\n",
       "      <th>year</th>\n",
       "      <th>region.1</th>\n",
       "      <th>streams</th>\n",
       "      <th>artist</th>\n",
       "      <th>track_name</th>\n",
       "      <th>track_id</th>\n",
       "      <th>...</th>\n",
       "      <th>energy</th>\n",
       "      <th>key</th>\n",
       "      <th>loudness</th>\n",
       "      <th>mode</th>\n",
       "      <th>speechiness</th>\n",
       "      <th>acousticness</th>\n",
       "      <th>instrumentalness</th>\n",
       "      <th>liveness</th>\n",
       "      <th>valence</th>\n",
       "      <th>tempo</th>\n",
       "    </tr>\n",
       "  </thead>\n",
       "  <tbody>\n",
       "    <tr>\n",
       "      <th>0</th>\n",
       "      <td>global</td>\n",
       "      <td>1</td>\n",
       "      <td>1</td>\n",
       "      <td>1</td>\n",
       "      <td>2017</td>\n",
       "      <td>global</td>\n",
       "      <td>3135625</td>\n",
       "      <td>The Weeknd</td>\n",
       "      <td>Starboy</td>\n",
       "      <td>5aAx2yezTd8zXrkmtKl66Z</td>\n",
       "      <td>...</td>\n",
       "      <td>0.594</td>\n",
       "      <td>7</td>\n",
       "      <td>-7.028</td>\n",
       "      <td>1</td>\n",
       "      <td>0.2820</td>\n",
       "      <td>0.16500</td>\n",
       "      <td>0.000003</td>\n",
       "      <td>0.134</td>\n",
       "      <td>0.535</td>\n",
       "      <td>186.054</td>\n",
       "    </tr>\n",
       "    <tr>\n",
       "      <th>1</th>\n",
       "      <td>global</td>\n",
       "      <td>2</td>\n",
       "      <td>1</td>\n",
       "      <td>1</td>\n",
       "      <td>2017</td>\n",
       "      <td>global</td>\n",
       "      <td>3015525</td>\n",
       "      <td>The Chainsmokers</td>\n",
       "      <td>Closer</td>\n",
       "      <td>7BKLCZ1jbUBVqRi2FVlTVw</td>\n",
       "      <td>...</td>\n",
       "      <td>0.524</td>\n",
       "      <td>8</td>\n",
       "      <td>-5.599</td>\n",
       "      <td>1</td>\n",
       "      <td>0.0338</td>\n",
       "      <td>0.41400</td>\n",
       "      <td>0.000000</td>\n",
       "      <td>0.111</td>\n",
       "      <td>0.661</td>\n",
       "      <td>95.010</td>\n",
       "    </tr>\n",
       "    <tr>\n",
       "      <th>2</th>\n",
       "      <td>global</td>\n",
       "      <td>3</td>\n",
       "      <td>1</td>\n",
       "      <td>1</td>\n",
       "      <td>2017</td>\n",
       "      <td>global</td>\n",
       "      <td>2545384</td>\n",
       "      <td>DJ Snake</td>\n",
       "      <td>Let Me Love You</td>\n",
       "      <td>4pdPtRcBmOSQDlJ3Fk945m</td>\n",
       "      <td>...</td>\n",
       "      <td>0.718</td>\n",
       "      <td>8</td>\n",
       "      <td>-5.309</td>\n",
       "      <td>1</td>\n",
       "      <td>0.0576</td>\n",
       "      <td>0.07840</td>\n",
       "      <td>0.000010</td>\n",
       "      <td>0.122</td>\n",
       "      <td>0.142</td>\n",
       "      <td>199.864</td>\n",
       "    </tr>\n",
       "    <tr>\n",
       "      <th>3</th>\n",
       "      <td>global</td>\n",
       "      <td>4</td>\n",
       "      <td>1</td>\n",
       "      <td>1</td>\n",
       "      <td>2017</td>\n",
       "      <td>global</td>\n",
       "      <td>2356604</td>\n",
       "      <td>Clean Bandit</td>\n",
       "      <td>Rockabye (feat. Sean Paul &amp; Anne-Marie)</td>\n",
       "      <td>5knuzwU65gJK7IF5yJsuaW</td>\n",
       "      <td>...</td>\n",
       "      <td>0.763</td>\n",
       "      <td>9</td>\n",
       "      <td>-4.068</td>\n",
       "      <td>0</td>\n",
       "      <td>0.0523</td>\n",
       "      <td>0.40600</td>\n",
       "      <td>0.000000</td>\n",
       "      <td>0.180</td>\n",
       "      <td>0.742</td>\n",
       "      <td>101.965</td>\n",
       "    </tr>\n",
       "    <tr>\n",
       "      <th>4</th>\n",
       "      <td>global</td>\n",
       "      <td>5</td>\n",
       "      <td>1</td>\n",
       "      <td>1</td>\n",
       "      <td>2017</td>\n",
       "      <td>global</td>\n",
       "      <td>2259887</td>\n",
       "      <td>Drake</td>\n",
       "      <td>One Dance</td>\n",
       "      <td>1xznGGDReH1oQq0xzbwXa3</td>\n",
       "      <td>...</td>\n",
       "      <td>0.619</td>\n",
       "      <td>1</td>\n",
       "      <td>-5.886</td>\n",
       "      <td>1</td>\n",
       "      <td>0.0532</td>\n",
       "      <td>0.00784</td>\n",
       "      <td>0.004230</td>\n",
       "      <td>0.351</td>\n",
       "      <td>0.371</td>\n",
       "      <td>103.989</td>\n",
       "    </tr>\n",
       "  </tbody>\n",
       "</table>\n",
       "<p>5 rows × 23 columns</p>\n",
       "</div>"
      ],
      "text/plain": [
       "   region  position  month  day  year region.1  streams            artist  \\\n",
       "0  global         1      1    1  2017   global  3135625        The Weeknd   \n",
       "1  global         2      1    1  2017   global  3015525  The Chainsmokers   \n",
       "2  global         3      1    1  2017   global  2545384          DJ Snake   \n",
       "3  global         4      1    1  2017   global  2356604      Clean Bandit   \n",
       "4  global         5      1    1  2017   global  2259887             Drake   \n",
       "\n",
       "                                track_name                track_id  ...  \\\n",
       "0                                  Starboy  5aAx2yezTd8zXrkmtKl66Z  ...   \n",
       "1                                   Closer  7BKLCZ1jbUBVqRi2FVlTVw  ...   \n",
       "2                          Let Me Love You  4pdPtRcBmOSQDlJ3Fk945m  ...   \n",
       "3  Rockabye (feat. Sean Paul & Anne-Marie)  5knuzwU65gJK7IF5yJsuaW  ...   \n",
       "4                                One Dance  1xznGGDReH1oQq0xzbwXa3  ...   \n",
       "\n",
       "   energy  key  loudness  mode  speechiness  acousticness  instrumentalness  \\\n",
       "0   0.594    7    -7.028     1       0.2820       0.16500          0.000003   \n",
       "1   0.524    8    -5.599     1       0.0338       0.41400          0.000000   \n",
       "2   0.718    8    -5.309     1       0.0576       0.07840          0.000010   \n",
       "3   0.763    9    -4.068     0       0.0523       0.40600          0.000000   \n",
       "4   0.619    1    -5.886     1       0.0532       0.00784          0.004230   \n",
       "\n",
       "   liveness  valence    tempo  \n",
       "0     0.134    0.535  186.054  \n",
       "1     0.111    0.661   95.010  \n",
       "2     0.122    0.142  199.864  \n",
       "3     0.180    0.742  101.965  \n",
       "4     0.351    0.371  103.989  \n",
       "\n",
       "[5 rows x 23 columns]"
      ]
     },
     "execution_count": 3,
     "metadata": {},
     "output_type": "execute_result"
    }
   ],
   "source": [
    "df.head()"
   ]
  },
  {
   "cell_type": "code",
   "execution_count": 4,
   "metadata": {},
   "outputs": [],
   "source": [
    "def searchfunc4(song_title):\n",
    "  song = song_title\n",
    "  if song in df['track_name']:\n",
    "    print(\"it works\")\n",
    "  else:\n",
    "    print('fails')"
   ]
  },
  {
   "cell_type": "code",
   "execution_count": 9,
   "metadata": {},
   "outputs": [
    {
     "name": "stdout",
     "output_type": "stream",
     "text": [
      "fails\n"
     ]
    }
   ],
   "source": [
    "searchfunc4('Closer')"
   ]
  },
  {
   "cell_type": "code",
   "execution_count": 11,
   "metadata": {},
   "outputs": [
    {
     "data": {
      "text/plain": [
       "count     20116\n",
       "unique    16615\n",
       "top       Intro\n",
       "freq         30\n",
       "Name: track_name, dtype: object"
      ]
     },
     "execution_count": 11,
     "metadata": {},
     "output_type": "execute_result"
    }
   ],
   "source": [
    "df['track_name'].describe()"
   ]
  },
  {
   "cell_type": "code",
   "execution_count": 12,
   "metadata": {},
   "outputs": [],
   "source": [
    "def searchfunc4(song_title):\n",
    "  for song in df['track_name'].head(10):\n",
    "    if song == song_title:\n",
    "      print(\"This one\")\n",
    "    else:\n",
    "      print(\"not working\")"
   ]
  },
  {
   "cell_type": "code",
   "execution_count": 13,
   "metadata": {},
   "outputs": [
    {
     "name": "stdout",
     "output_type": "stream",
     "text": [
      "not working\n",
      "This one\n",
      "not working\n",
      "not working\n",
      "not working\n",
      "not working\n",
      "not working\n",
      "not working\n",
      "not working\n",
      "not working\n"
     ]
    }
   ],
   "source": [
    "searchfunc4('Closer')"
   ]
  },
  {
   "cell_type": "code",
   "execution_count": null,
   "metadata": {},
   "outputs": [],
   "source": []
  }
 ],
 "metadata": {
  "kernelspec": {
   "display_name": "Python 3",
   "language": "python",
   "name": "python3"
  },
  "language_info": {
   "codemirror_mode": {
    "name": "ipython",
    "version": 3
   },
   "file_extension": ".py",
   "mimetype": "text/x-python",
   "name": "python",
   "nbconvert_exporter": "python",
   "pygments_lexer": "ipython3",
   "version": "3.8.5"
  }
 },
 "nbformat": 4,
 "nbformat_minor": 4
}
